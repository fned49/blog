{
 "cells": [
  {
   "cell_type": "markdown",
   "metadata": {},
   "source": [
    "# YOLOv1\n",
    "\n"
   ]
  },
  {
   "cell_type": "markdown",
   "metadata": {},
   "source": [
    "#### Localization loss\n",
    "\n",
    "$$\\lambda_{coord}\\sum_{i=0}^{S^2}\\sum_{j=0}^{B}\\mathcal{1}_{ij}^{obj}\\left[\\left(x_i-\\hat{x}_i\\right)^2 + \\left(y_i-\\hat{y}_i\\right)^2\\right]$$  \n",
    "$$+\\lambda_{coord}\\sum_{i=0}^{S^2}\\sum_{j=0}^{B}\\mathcal{1}_{ij}^{obj}\\left[\\left(\\sqrt{w_i}-\\sqrt{\\hat{w}_i}\\right)^2 + \\left(\\sqrt{h_i}-\\sqrt{\\hat{h}_i}\\right)^2\\right]$$ \n",
    "\n",
    "- $\\lambda_{coord}$ : 대부분의 grid cell은 객체를 포함하지 않아 confidence score가 0이 되어, 객체를 포함하는 grid cell의 gradient를 압도하므로 모델이 불안정해질 수 있습니다. $\\lambda_{coord}$는 이러한 문제를 해결하기 위해 객체를 포함하는 cell에 가중치를 두는 파라미터입니다. 논문에서는 $\\lambda_{coord} = 5$로 설정합니다.\n",
    "- $S^2$ : grid cell의 수(=7x7=49)\n",
    "- $B$ : 각 grid cell의 bounding box의 수(=2)\n",
    "- $\\mathcal{1}_{ij}^{obj}$ : $i$번째 grid cell의 $j$번째 bounding box가 객체를 예측하도록 할당 받았을 때 1, 그렇지 않을 경우 0. grid cell에서는 B개의 bounding box를 예측하지만, 그 중 confidence score가 가장 높은 1개의 bounding box만을 학습에 사용합니다.\n",
    "- $x_i$, $y_i$, $w_i$, $h_i$ : ground truth box의 $x$, $y$ 좌표와 width, height 크기가 큰 bounding box의 small error가 크기가 작은 bounding box의 error보다 덜 중요하다는 것을 반영하기 위해 $w_i$, $h_i$ 값에 squre root를 씌어주게 됩니다. \n",
    "- $\\hat{x}_i$, $\\hat{y}_i$, $\\hat{w}_i$, $\\hat{h}_i$ : 예측 bounding box의 $x, y$ 좌표, width, height"
   ]
  },
  {
   "cell_type": "markdown",
   "metadata": {},
   "source": []
  }
 ],
 "metadata": {
  "language_info": {
   "name": "python"
  }
 },
 "nbformat": 4,
 "nbformat_minor": 2
}
