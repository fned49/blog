{
 "cells": [
  {
   "cell_type": "markdown",
   "metadata": {},
   "source": [
    "#  YOLOv3 (YOLOv3: An Incremental Improvement)\n",
    "- [paper](https://arxiv.org/pdf/1804.02767.pdf)"
   ]
  },
  {
   "cell_type": "markdown",
   "metadata": {},
   "source": [
    "## Summary\n",
    "- BCE Loss\n",
    "- Feature Pyramid Network\n",
    "- Darknet-53 : a deep neural network"
   ]
  },
  {
   "cell_type": "markdown",
   "metadata": {},
   "source": [
    "#### Class Prediction \n",
    "\n",
    "<img src = \"https://github.com/fned49/blog/blob/main/YOLO/YOLOv3/figure/figure2.png?raw=true\">\n",
    "\n",
    "- 각각의 bounding box는 multi-label classification을 수행합니다.\n",
    "- softmax 함수를 사용하여 class를 예측할 경우 성능 면에서 좋지 않기 때문에 binary cross-entropy를 사용합니다.\n",
    "- 이러한 방식은 더 복잡한 데이터셋이 있을 때 유의미한 결과를 보여줍니다.\n",
    "- 가령 하나의 box 안에 복수의 객체가 존재할 때, class를 softmax 함수를 사용해서 예측하면 객체를 적절하게 포착하지 못한다는 문제가 있습니다.\n",
    "- 따라서 box에서 각 class가 존재하는 여부를 확인하는 binary-cross entropy가 더 적절하다고 할 수 있습니다."
   ]
  },
  {
   "cell_type": "markdown",
   "metadata": {},
   "source": []
  }
 ],
 "metadata": {
  "language_info": {
   "name": "python"
  }
 },
 "nbformat": 4,
 "nbformat_minor": 2
}
