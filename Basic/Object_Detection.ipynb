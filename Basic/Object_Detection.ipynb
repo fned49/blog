{
 "cells": [
  {
   "cell_type": "markdown",
   "metadata": {},
   "source": [
    "# Object Detection"
   ]
  },
  {
   "cell_type": "markdown",
   "metadata": {},
   "source": [
    "## Object Detector\n",
    "\n",
    "#### Backbone\n",
    "- Backbone은 이미지에서 특징을 추출하는 핵심 네트워크입니다.\n",
    "- 이 네트워크는 대부분의 경우 ImageNet과 같은 대규모 데이터셋에서 사전 훈련된 가중치를 가진 모델을 사용합니다.\n",
    "- 주요 특징을 추출하여 뒷부분의 네트워크로 전달합니다.\n",
    "\n",
    "#### Neck\n",
    "- Neck은 Backbone에서 추출한 특징 맵(feature map)을 사용하여 다양한 스케일의 정보를 통합하는 역할을 합니다.\n",
    "- Feature Pyramid Network (FPN)과 같은 기술을 사용하여 서로 다른 해상도의 특징 맵을 결합하여 객체의 다양한 크기와 위치에 대해 감지할 수 있도록 합니다.\n",
    "- 다양한 모양과 크기의 객체에 대해 추출된 기능의 풍부함과 의미론적 표현을 향상시키기 위해 백본에 직접 활용됩니다.\n",
    "  \n",
    "#### Head\n",
    "- Head는 Neck로부터 전달받은 특징을 사용하여 클래스와 바운딩 박스를 예측합니다.\n",
    "- 주로 각 위치에서의 객체 존재 여부, 클래스 확률, 그리고 바운딩 박스의 위치 등을 출력합니다.\n",
    "- 예측된 정보를 기반으로 객체 감지가 수행됩니다."
   ]
  },
  {
   "cell_type": "markdown",
   "metadata": {},
   "source": []
  }
 ],
 "metadata": {
  "language_info": {
   "name": "python"
  }
 },
 "nbformat": 4,
 "nbformat_minor": 2
}
